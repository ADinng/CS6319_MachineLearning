{
  "nbformat": 4,
  "nbformat_minor": 0,
  "metadata": {
    "colab": {
      "provenance": [],
      "authorship_tag": "ABX9TyOGveWjkDA6qakSB0qa/2ka",
      "include_colab_link": true
    },
    "kernelspec": {
      "name": "python3",
      "display_name": "Python 3"
    },
    "language_info": {
      "name": "python"
    }
  },
  "cells": [
    {
      "cell_type": "markdown",
      "metadata": {
        "id": "view-in-github",
        "colab_type": "text"
      },
      "source": [
        "<a href=\"https://colab.research.google.com/github/ADinng/CS6319_MachineLearning/blob/main/CS6319_lab03_Xingmei_Ding.ipynb\" target=\"_parent\"><img src=\"https://colab.research.google.com/assets/colab-badge.svg\" alt=\"Open In Colab\"/></a>"
      ]
    },
    {
      "cell_type": "code",
      "execution_count": null,
      "metadata": {
        "id": "OqVrIU0FHb1B"
      },
      "outputs": [],
      "source": [
        "import pandas as pd\n",
        "import numpy as np"
      ]
    },
    {
      "cell_type": "markdown",
      "source": [
        "Data Loading"
      ],
      "metadata": {
        "id": "frtECc6YIZTl"
      }
    },
    {
      "cell_type": "code",
      "source": [
        "url = \"https://archive.ics.uci.edu/ml/machine-learning-databases/00267/data_banknote_authentication.txt\"\n",
        "columns = [\"variance\", \"skewness\", \"curtosis\", \"entropy\", \"class\"]\n",
        "data = pd.read_csv(url, names=columns)"
      ],
      "metadata": {
        "id": "ueneS3ZBwMpd"
      },
      "execution_count": null,
      "outputs": []
    },
    {
      "cell_type": "markdown",
      "source": [
        "Data Split"
      ],
      "metadata": {
        "id": "Z52mLLxwMYuR"
      }
    },
    {
      "cell_type": "code",
      "source": [
        "from sklearn.model_selection import train_test_split\n",
        "datatrain, datatest = train_test_split(data, test_size=0.2)"
      ],
      "metadata": {
        "id": "gWmSx36yhKML"
      },
      "execution_count": null,
      "outputs": []
    },
    {
      "cell_type": "markdown",
      "source": [
        "Separate features and labels"
      ],
      "metadata": {
        "id": "tL9pp47kIglZ"
      }
    },
    {
      "cell_type": "code",
      "source": [
        "traindata = datatrain.iloc[:,0:3]\n",
        "trainlabs = datatrain.iloc[:,4]\n",
        "testdata = datatest.iloc[:,0:3]\n",
        "testlabs = datatest.iloc[:,4]"
      ],
      "metadata": {
        "id": "DSALGxiv-9gU"
      },
      "execution_count": null,
      "outputs": []
    },
    {
      "cell_type": "markdown",
      "source": [
        "Standardize the data"
      ],
      "metadata": {
        "id": "66K8gRrcIm4C"
      }
    },
    {
      "cell_type": "code",
      "source": [
        "from sklearn.preprocessing import MinMaxScaler\n",
        "scaler = MinMaxScaler()\n",
        "traindatar = scaler.fit_transform(traindata)\n",
        "testdatar = scaler.transform(testdata)"
      ],
      "metadata": {
        "id": "F3YcPdl05tdJ"
      },
      "execution_count": null,
      "outputs": []
    },
    {
      "cell_type": "markdown",
      "source": [
        "Evaluate LinearSVC use F1 score"
      ],
      "metadata": {
        "id": "_XcUIcrHIy6q"
      }
    },
    {
      "cell_type": "code",
      "source": [
        "from sklearn.model_selection import ShuffleSplit\n",
        "from sklearn.model_selection import cross_val_score\n",
        "from sklearn.svm import LinearSVC\n",
        "\n",
        "lsclassifier = LinearSVC()\n",
        "split = ShuffleSplit(n_splits=10, test_size=0.2)\n",
        "scores = cross_val_score(lsclassifier, traindatar, trainlabs, scoring=\"f1\", cv=split)\n",
        "print(\"LS f1 mean =\",scores.mean(),\" stddev =\",scores.std())"
      ],
      "metadata": {
        "colab": {
          "base_uri": "https://localhost:8080/"
        },
        "id": "Sn9LOYn5AbRh",
        "outputId": "d9b948fa-1501-462d-cfd2-b67d0a2ab48a"
      },
      "execution_count": null,
      "outputs": [
        {
          "output_type": "stream",
          "name": "stdout",
          "text": [
            "LS f1 mean = 0.9770324114221476  stddev = 0.006816009004361867\n"
          ]
        }
      ]
    },
    {
      "cell_type": "markdown",
      "source": [
        "Evaluate DecisionTree use F1 score"
      ],
      "metadata": {
        "id": "2xdl8hQHOC-7"
      }
    },
    {
      "cell_type": "code",
      "source": [
        "from sklearn.tree import DecisionTreeClassifier\n",
        "\n",
        "dtclassifier = DecisionTreeClassifier()\n",
        "split = ShuffleSplit(n_splits=10, test_size=0.2)\n",
        "scores = cross_val_score(dtclassifier, traindatar, trainlabs, scoring=\"f1\", cv=split)\n",
        "print(\"DT f1 mean =\",scores.mean(),\" stddev =\",scores.std())"
      ],
      "metadata": {
        "colab": {
          "base_uri": "https://localhost:8080/"
        },
        "id": "pIS8ciDbBKov",
        "outputId": "60387d75-db52-474a-9251-ce3ea9fca279"
      },
      "execution_count": null,
      "outputs": [
        {
          "output_type": "stream",
          "name": "stdout",
          "text": [
            "DT f1 mean = 0.9716509914067576  stddev = 0.01644503770063419\n"
          ]
        }
      ]
    },
    {
      "cell_type": "markdown",
      "source": [
        "Evaluate RandomForest use F1 score"
      ],
      "metadata": {
        "id": "pgGJcf9MRrLB"
      }
    },
    {
      "cell_type": "code",
      "source": [
        "from sklearn.ensemble import RandomForestClassifier\n",
        "\n",
        "rfclassifier = RandomForestClassifier()\n",
        "split = ShuffleSplit(n_splits=10, test_size=0.2)\n",
        "scores = cross_val_score(rfclassifier, traindatar, trainlabs, scoring=\"f1\", cv=split)\n",
        "print(\"RF f1 mean =\",scores.mean(),\" stddev =\",scores.std())"
      ],
      "metadata": {
        "colab": {
          "base_uri": "https://localhost:8080/"
        },
        "id": "3EfeqpOjBohZ",
        "outputId": "c8184002-4a19-42e1-b6e1-560a6d2c8585"
      },
      "execution_count": null,
      "outputs": [
        {
          "output_type": "stream",
          "name": "stdout",
          "text": [
            "RF f1 mean = 0.9832389048776784  stddev = 0.011035903325181349\n"
          ]
        }
      ]
    },
    {
      "cell_type": "markdown",
      "source": [
        "Use grid search"
      ],
      "metadata": {
        "id": "R_00xp3MjBOG"
      }
    },
    {
      "cell_type": "code",
      "source": [
        "from sklearn.model_selection import GridSearchCV\n",
        "from sklearn.ensemble import RandomForestRegressor\n",
        "import numpy as np\n",
        "\n",
        "param_grid = {\n",
        "    'n_estimators': [30, 50, 80, 100],\n",
        "    'max_depth': [1, 5, 10, 15, 20],\n",
        "    'min_samples_split': [2, 5, 10],\n",
        "    'min_samples_leaf': [1, 2, 4],\n",
        "}\n",
        "\n",
        "rfclassifier = RandomForestClassifier()\n",
        "\n",
        "search = GridSearchCV(rfclassifier,param_grid,scoring='f1', cv=5)\n",
        "\n",
        "search.fit(traindatar, trainlabs)\n",
        "\n",
        "print(\"Best parameters: \", search.best_params_)\n",
        "print(\"Best score: \", search.best_score_)"
      ],
      "metadata": {
        "colab": {
          "base_uri": "https://localhost:8080/"
        },
        "id": "PAsrKKDYoSzA",
        "outputId": "c8d57bc8-7346-4960-910e-c1db0bb92274"
      },
      "execution_count": null,
      "outputs": [
        {
          "output_type": "stream",
          "name": "stdout",
          "text": [
            "Best parameters:  {'max_depth': 10, 'min_samples_leaf': 1, 'min_samples_split': 2, 'n_estimators': 50}\n",
            "Best score:  0.9889139106804082\n"
          ]
        }
      ]
    },
    {
      "cell_type": "code",
      "source": [
        "param_grid = {\n",
        "    'n_estimators': [40, 45, 50, 55, 60],\n",
        "    'max_depth': [6, 8, 10, 12],\n",
        "}\n",
        "\n",
        "rfclassifier = RandomForestClassifier(min_samples_split=2, min_samples_leaf=1)\n",
        "\n",
        "search = GridSearchCV(rfclassifier,param_grid,scoring='f1', cv=5)\n",
        "\n",
        "search.fit(traindatar, trainlabs)\n",
        "\n",
        "print(\"Best parameters: \", search.best_params_)\n",
        "print(\"Best score: \", search.best_score_)"
      ],
      "metadata": {
        "colab": {
          "base_uri": "https://localhost:8080/"
        },
        "id": "2tMtz7ctlmmm",
        "outputId": "f98ce288-1410-4714-ea5e-1f3d83aff898"
      },
      "execution_count": null,
      "outputs": [
        {
          "output_type": "stream",
          "name": "stdout",
          "text": [
            "Best parameters:  {'max_depth': 12, 'n_estimators': 45}\n",
            "Best score:  0.9898988353035237\n"
          ]
        }
      ]
    },
    {
      "cell_type": "code",
      "source": [
        "param_grid = {\n",
        "    'n_estimators': [41, 43, 45, 47, 49],\n",
        "    'max_depth': [10, 11, 12, 13],\n",
        "}\n",
        "\n",
        "rfclassifier = RandomForestClassifier(min_samples_split=2, min_samples_leaf=1)\n",
        "\n",
        "search = GridSearchCV(rfclassifier,param_grid,scoring='f1', cv=5)\n",
        "\n",
        "search.fit(traindatar, trainlabs)\n",
        "\n",
        "print(\"Best parameters: \", search.best_params_)\n",
        "print(\"Best score: \", search.best_score_)"
      ],
      "metadata": {
        "colab": {
          "base_uri": "https://localhost:8080/"
        },
        "id": "PQXpV4jcql3R",
        "outputId": "4ea65c39-e0e7-461b-e3b1-a903698b2234"
      },
      "execution_count": null,
      "outputs": [
        {
          "output_type": "stream",
          "name": "stdout",
          "text": [
            "Best parameters:  {'max_depth': 11, 'n_estimators': 49}\n",
            "Best score:  0.9909140121980977\n"
          ]
        }
      ]
    },
    {
      "cell_type": "markdown",
      "source": [
        "Use best model on the test data"
      ],
      "metadata": {
        "id": "CfRf9BzgPtED"
      }
    },
    {
      "cell_type": "code",
      "source": [
        "from sklearn.metrics import f1_score\n",
        "\n",
        "best_classifier = search.best_estimator_\n",
        "\n",
        "best_classifier.fit(traindatar, trainlabs)\n",
        "predict = best_classifier.predict(testdatar)\n",
        "print(\"F1 score on Test data:\", f1_score(testlabs, predict))"
      ],
      "metadata": {
        "colab": {
          "base_uri": "https://localhost:8080/"
        },
        "id": "07poO2HyE4mI",
        "outputId": "21732a05-b932-4b2f-d642-4b0d4c58eec3"
      },
      "execution_count": null,
      "outputs": [
        {
          "output_type": "stream",
          "name": "stdout",
          "text": [
            "F1 score on Test data: 0.9957081545064378\n"
          ]
        }
      ]
    }
  ]
}