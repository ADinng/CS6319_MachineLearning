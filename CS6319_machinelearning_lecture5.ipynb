{
  "nbformat": 4,
  "nbformat_minor": 0,
  "metadata": {
    "colab": {
      "provenance": [],
      "authorship_tag": "ABX9TyP5OQnXGf+OnL5dDoB8ytnC",
      "include_colab_link": true
    },
    "kernelspec": {
      "name": "python3",
      "display_name": "Python 3"
    },
    "language_info": {
      "name": "python"
    }
  },
  "cells": [
    {
      "cell_type": "markdown",
      "metadata": {
        "id": "view-in-github",
        "colab_type": "text"
      },
      "source": [
        "<a href=\"https://colab.research.google.com/github/ADinng/CS6319_MachineLearning/blob/main/CS6319_machinelearning_lecture5.ipynb\" target=\"_parent\"><img src=\"https://colab.research.google.com/assets/colab-badge.svg\" alt=\"Open In Colab\"/></a>"
      ]
    },
    {
      "cell_type": "code",
      "source": [
        "#lecture 05\n",
        "# Numpy arrays\n",
        "\n",
        "import numpy as np\n",
        "a = np.array([1, 2, 3, 4, 5, 6, 7])\n",
        "b = np.array([[1, 2, 3, 4, 5], [6, 7, 8, 9, 10]])"
      ],
      "metadata": {
        "id": "lcUgFvYe2O2b"
      },
      "execution_count": null,
      "outputs": []
    },
    {
      "cell_type": "code",
      "source": [
        "print(a[1:5])"
      ],
      "metadata": {
        "colab": {
          "base_uri": "https://localhost:8080/"
        },
        "id": "Opcivb-gbPYD",
        "outputId": "1f009676-2d7c-49ac-cae1-494e9f11bae3"
      },
      "execution_count": null,
      "outputs": [
        {
          "output_type": "stream",
          "name": "stdout",
          "text": [
            "[2 3 4 5]\n"
          ]
        }
      ]
    },
    {
      "cell_type": "code",
      "source": [
        "print(b[0:2, 1:4])"
      ],
      "metadata": {
        "colab": {
          "base_uri": "https://localhost:8080/"
        },
        "id": "HGQMDBo4biME",
        "outputId": "f92c613c-a560-491d-fca1-49dde0bb50bc"
      },
      "execution_count": null,
      "outputs": [
        {
          "output_type": "stream",
          "name": "stdout",
          "text": [
            "[[2 3 4]\n",
            " [7 8 9]]\n"
          ]
        }
      ]
    },
    {
      "cell_type": "code",
      "source": [
        "print(a.dtype)"
      ],
      "metadata": {
        "colab": {
          "base_uri": "https://localhost:8080/"
        },
        "id": "dZPj-XvTdj1p",
        "outputId": "88b75d16-6ff5-400f-cf26-84411499604f"
      },
      "execution_count": null,
      "outputs": [
        {
          "output_type": "stream",
          "name": "stdout",
          "text": [
            "int64\n"
          ]
        }
      ]
    },
    {
      "cell_type": "code",
      "source": [
        "x = a.copy()"
      ],
      "metadata": {
        "id": "_870edBzdrso"
      },
      "execution_count": null,
      "outputs": []
    },
    {
      "cell_type": "code",
      "source": [
        "y=a.view()"
      ],
      "metadata": {
        "id": "1-AahTnQdu3k"
      },
      "execution_count": null,
      "outputs": []
    },
    {
      "cell_type": "code",
      "source": [
        "print(b.shape)"
      ],
      "metadata": {
        "colab": {
          "base_uri": "https://localhost:8080/"
        },
        "id": "8x4J8_eNeJ0a",
        "outputId": "39f6bcf0-b4d3-4927-e13e-ae36ba884da4"
      },
      "execution_count": null,
      "outputs": [
        {
          "output_type": "stream",
          "name": "stdout",
          "text": [
            "(2, 5)\n"
          ]
        }
      ]
    },
    {
      "cell_type": "code",
      "source": [
        "c = np.array([1, 2, 3, 4, 5, 6, 7, 8, 9, 10, 11, 12])\n",
        "d = c.reshape(4, 3)"
      ],
      "metadata": {
        "id": "RuntqyGpfvlq"
      },
      "execution_count": null,
      "outputs": []
    },
    {
      "cell_type": "code",
      "source": [
        "print(d)"
      ],
      "metadata": {
        "colab": {
          "base_uri": "https://localhost:8080/"
        },
        "id": "MBzBX6nff61N",
        "outputId": "524c5639-d72c-41e4-af31-7d4a62dd2ac4"
      },
      "execution_count": null,
      "outputs": [
        {
          "output_type": "stream",
          "name": "stdout",
          "text": [
            "[[ 1  2  3]\n",
            " [ 4  5  6]\n",
            " [ 7  8  9]\n",
            " [10 11 12]]\n"
          ]
        }
      ]
    },
    {
      "cell_type": "code",
      "source": [
        "d = c.reshape(4, -1)"
      ],
      "metadata": {
        "id": "joHyslEQgP9s"
      },
      "execution_count": null,
      "outputs": []
    },
    {
      "cell_type": "code",
      "source": [
        "a = np.array([[1, 2, 3], [4, 5, 6]])\n",
        "b = a.reshape(-1)"
      ],
      "metadata": {
        "id": "tqIie-VigiFg"
      },
      "execution_count": null,
      "outputs": []
    },
    {
      "cell_type": "code",
      "source": [
        "print(b)"
      ],
      "metadata": {
        "colab": {
          "base_uri": "https://localhost:8080/"
        },
        "id": "wfpzCCvRgc91",
        "outputId": "34a02b17-3f5e-40db-aca2-56d54728a497"
      },
      "execution_count": null,
      "outputs": [
        {
          "output_type": "stream",
          "name": "stdout",
          "text": [
            "[1 2 3 4 5 6]\n"
          ]
        }
      ]
    },
    {
      "cell_type": "code",
      "source": [
        "b = np.array([[7,8,9],[10,11,12]])"
      ],
      "metadata": {
        "id": "P2E1vF7khLW_"
      },
      "execution_count": null,
      "outputs": []
    },
    {
      "cell_type": "code",
      "source": [
        "c = np.concatenate((a, b))"
      ],
      "metadata": {
        "id": "71QlSH5Mg3Cq"
      },
      "execution_count": null,
      "outputs": []
    },
    {
      "cell_type": "code",
      "source": [
        "a = np.array([1, 2, 3])\n",
        "b = np.array([4, 5, 6])"
      ],
      "metadata": {
        "id": "GSnUUorrh7M8"
      },
      "execution_count": null,
      "outputs": []
    },
    {
      "cell_type": "code",
      "source": [
        "c = np.concatenate((a,b), axis=0)"
      ],
      "metadata": {
        "id": "U_-ZCuyIhazV"
      },
      "execution_count": null,
      "outputs": []
    },
    {
      "cell_type": "code",
      "source": [
        "print(c)"
      ],
      "metadata": {
        "colab": {
          "base_uri": "https://localhost:8080/"
        },
        "id": "IKnDKe2DhFcN",
        "outputId": "4f8bb7be-c534-4875-d32d-67579cd9d0f7"
      },
      "execution_count": null,
      "outputs": [
        {
          "output_type": "stream",
          "name": "stdout",
          "text": [
            "[1 2 3 4 5 6]\n"
          ]
        }
      ]
    },
    {
      "cell_type": "code",
      "source": [
        "a = np.array([[1, 2],[3, 4]])\n",
        "b = np.array([[5, 6],[7, 8]])"
      ],
      "metadata": {
        "id": "dlz4CiQAiWXV"
      },
      "execution_count": null,
      "outputs": []
    },
    {
      "cell_type": "code",
      "source": [
        "c = np.concatenate((a,b), axis=1)"
      ],
      "metadata": {
        "id": "-Ur2V7JmiMcX"
      },
      "execution_count": null,
      "outputs": []
    },
    {
      "cell_type": "code",
      "source": [
        "print(c)"
      ],
      "metadata": {
        "colab": {
          "base_uri": "https://localhost:8080/"
        },
        "id": "nBWDwkN2iiAb",
        "outputId": "aa8f865f-c61b-4f59-f103-0409e6fc958a"
      },
      "execution_count": null,
      "outputs": [
        {
          "output_type": "stream",
          "name": "stdout",
          "text": [
            "[[1 2 5 6]\n",
            " [3 4 7 8]]\n"
          ]
        }
      ]
    },
    {
      "cell_type": "code",
      "source": [
        "a = np.array([1, 2, 3])\n",
        "b = np.array([4, 5, 6])\n",
        "c = np.stack((a,b), axis=1)\n",
        "print(c)"
      ],
      "metadata": {
        "colab": {
          "base_uri": "https://localhost:8080/"
        },
        "id": "yc9TzpZmiq8p",
        "outputId": "61668d25-e1ac-4784-c048-5add744f2984"
      },
      "execution_count": null,
      "outputs": [
        {
          "output_type": "stream",
          "name": "stdout",
          "text": [
            "[[1 4]\n",
            " [2 5]\n",
            " [3 6]]\n"
          ]
        }
      ]
    },
    {
      "cell_type": "code",
      "source": [
        "c = np.hstack((a,b))\n",
        "print(c)"
      ],
      "metadata": {
        "colab": {
          "base_uri": "https://localhost:8080/"
        },
        "id": "2YR7vKsQjPXZ",
        "outputId": "d1c861c7-2db7-48cd-e6be-7d3d07aa9007"
      },
      "execution_count": null,
      "outputs": [
        {
          "output_type": "stream",
          "name": "stdout",
          "text": [
            "[1 2 3 4 5 6]\n"
          ]
        }
      ]
    },
    {
      "cell_type": "code",
      "source": [
        "d = np.vstack((a,b))\n",
        "print(d)"
      ],
      "metadata": {
        "colab": {
          "base_uri": "https://localhost:8080/"
        },
        "id": "fTKxtxzhjYye",
        "outputId": "58955de8-fb16-4988-adea-1e0ef7a8f628"
      },
      "execution_count": null,
      "outputs": [
        {
          "output_type": "stream",
          "name": "stdout",
          "text": [
            "[[1 2 3]\n",
            " [4 5 6]]\n"
          ]
        }
      ]
    },
    {
      "cell_type": "code",
      "source": [
        "a = np.array([1, 2, 3, 4, 5, 6, 7, 8])\n",
        "b = np.array_split(a, 3)\n",
        "print(b)"
      ],
      "metadata": {
        "colab": {
          "base_uri": "https://localhost:8080/"
        },
        "id": "NH05fZIjjySI",
        "outputId": "01491a02-d350-4847-9d8c-8951a9ee7961"
      },
      "execution_count": null,
      "outputs": [
        {
          "output_type": "stream",
          "name": "stdout",
          "text": [
            "[array([1, 2, 3]), array([4, 5, 6]), array([7, 8])]\n"
          ]
        }
      ]
    },
    {
      "cell_type": "code",
      "source": [
        "# Pandas series and dataframes\n",
        "import pandas as pd"
      ],
      "metadata": {
        "id": "DWVD-UvFkV91"
      },
      "execution_count": null,
      "outputs": []
    },
    {
      "cell_type": "code",
      "source": [
        "a = np.array([6,7,8])\n",
        "s = pd.Series(a)"
      ],
      "metadata": {
        "id": "1NHiUeqkkrWL"
      },
      "execution_count": null,
      "outputs": []
    },
    {
      "cell_type": "code",
      "source": [
        "print(a)"
      ],
      "metadata": {
        "colab": {
          "base_uri": "https://localhost:8080/"
        },
        "id": "t0xDUdDok0Vj",
        "outputId": "85763f8f-95b2-49c3-fe3b-7f5d4f12fe37"
      },
      "execution_count": null,
      "outputs": [
        {
          "output_type": "stream",
          "name": "stdout",
          "text": [
            "[6 7 8]\n"
          ]
        }
      ]
    },
    {
      "cell_type": "code",
      "source": [
        "print(s)"
      ],
      "metadata": {
        "colab": {
          "base_uri": "https://localhost:8080/"
        },
        "id": "XY1NmXHTk4SC",
        "outputId": "0599ae23-72fa-449d-a68a-cef4694dbb67"
      },
      "execution_count": null,
      "outputs": [
        {
          "output_type": "stream",
          "name": "stdout",
          "text": [
            "0    6\n",
            "1    7\n",
            "2    8\n",
            "dtype: int64\n"
          ]
        }
      ]
    },
    {
      "cell_type": "code",
      "source": [
        "s = pd.Series(a, index=['a','z','hello'])\n",
        "print(s)"
      ],
      "metadata": {
        "colab": {
          "base_uri": "https://localhost:8080/"
        },
        "id": "YzN9M023k-vb",
        "outputId": "f97b57be-7703-461d-e4d8-173dbf931e1e"
      },
      "execution_count": null,
      "outputs": [
        {
          "output_type": "stream",
          "name": "stdout",
          "text": [
            "a        6\n",
            "z        7\n",
            "hello    8\n",
            "dtype: int64\n"
          ]
        }
      ]
    },
    {
      "cell_type": "code",
      "source": [
        "x = s.values\n",
        "print(x)"
      ],
      "metadata": {
        "colab": {
          "base_uri": "https://localhost:8080/"
        },
        "id": "u4KO0mF0lK32",
        "outputId": "2fd429e3-ab46-4f01-9dc3-55ca6b22c9c9"
      },
      "execution_count": null,
      "outputs": [
        {
          "output_type": "stream",
          "name": "stdout",
          "text": [
            "[6 7 8]\n"
          ]
        }
      ]
    },
    {
      "cell_type": "code",
      "execution_count": null,
      "metadata": {
        "id": "dnJ3_aDOLI2Z"
      },
      "outputs": [],
      "source": [
        "electrical grid staisility\n",
        "\n",
        "griddata = pd.read_csv(\"........\")\n",
        "(gridvas, gridlabs)\n",
        "\n",
        "scaler = MinMaxScaler()\n",
        "gridvars = scaler.fit_transform(gridvars)\n",
        "\n",
        "le = labelEncoder()\n",
        "gridlabse = le.fit_transform(gridlabs)\n",
        "\n",
        "classifiec = LinearSVC()\n",
        "split = shuffle_split(n_split = 10, test_size = 0.2)\n",
        "\n",
        "scores = cross_val_score(classifie, gridvars, gridlabse, scoring = \"accuracy\", cv = split )\n",
        "\n",
        "UN 0.82 +_ 0.004\n"
      ]
    },
    {
      "cell_type": "code",
      "source": [
        "classifiec = DecisionTreeClasifier\n",
        "DT 0.84"
      ],
      "metadata": {
        "id": "M8-8A1k2Pqzz"
      },
      "execution_count": null,
      "outputs": []
    },
    {
      "cell_type": "code",
      "source": [
        "classifiec = RandomForestClassifier()\n",
        "RF 0.92"
      ],
      "metadata": {
        "id": "PBJ-NsENPxUZ"
      },
      "execution_count": null,
      "outputs": []
    },
    {
      "cell_type": "code",
      "source": [
        "classifiec = SVC()\n",
        "svc 0.92"
      ],
      "metadata": {
        "id": "3IbP24-qQHno"
      },
      "execution_count": null,
      "outputs": []
    },
    {
      "cell_type": "code",
      "source": [
        "classifiec = KneighbourClassifier()\n",
        "KN 0.85"
      ],
      "metadata": {
        "id": "ldaI2tA2P8bR"
      },
      "execution_count": null,
      "outputs": []
    },
    {
      "cell_type": "code",
      "source": [
        "Estimat\n",
        "predictor\n",
        "transform\n"
      ],
      "metadata": {
        "id": "7at8_mZtQPNF"
      },
      "execution_count": null,
      "outputs": []
    },
    {
      "cell_type": "code",
      "source": [
        "linear classification\n",
        "polymoniac\n",
        "multiple linear regression\n"
      ],
      "metadata": {
        "id": "OcUdJz1GQk5y"
      },
      "execution_count": null,
      "outputs": []
    },
    {
      "cell_type": "code",
      "source": [
        "DescisionTreeRegression\n",
        ".............Classifier\n",
        "\n",
        "Random forest\n",
        "  ensemble learning\n"
      ],
      "metadata": {
        "id": "mJGCiPrUSjIj"
      },
      "execution_count": null,
      "outputs": []
    },
    {
      "cell_type": "code",
      "source": [
        "kernel trick\n",
        "kernel function"
      ],
      "metadata": {
        "id": "VgXQYfPpU6Kx"
      },
      "execution_count": null,
      "outputs": []
    },
    {
      "cell_type": "code",
      "source": [
        "import numpy as np\n",
        "a = np.array([1, 2, 3, 4, 5, 6, 7])"
      ],
      "metadata": {
        "id": "_raQ8Yo419H0"
      },
      "execution_count": null,
      "outputs": []
    },
    {
      "cell_type": "code",
      "source": [
        "import pandas as pd\n",
        "import numpy as np\n",
        "housing = pd.read_csv(\"https://github.com/ageron/handson-ml/raw/master/datasets/housing/housing.csv\")\n",
        "\n",
        "from sklearn.model_selection import train_test_split\n",
        "trainset, testset = train_test_split(housing, test_size=0.2)\n",
        "\n",
        "traindata = trainset.drop(\"median_house_value\", axis=1)\n",
        "trainlabs = trainset[\"median_house_value\"].copy()\n",
        "\n",
        "trainnum = traindata.drop(\"ocean_proximity\", axis=1)\n",
        "traincat = traindata[[\"ocean_proximity\"]]\n",
        "\n",
        "\n",
        "# Combining numerical attributes\n",
        "trainnum[\"rooms_per_household\"]=trainnum[\"total_rooms\"]/trainnum[\"households\"]\n",
        "trainnum[\"bedrooms_per_room\"]= trainnum[\"total_bedrooms\"]/trainnum[\"total_rooms\"]\n",
        "trainnum[\"population_per_household\"]=trainnum[\"population\"]/trainnum[\"households\"]\n",
        "\n",
        "# Handling missing values\n",
        "from sklearn.impute import SimpleImputer\n",
        "#  Imptuation\n",
        "imputer = SimpleImputer(strategy=\"median\")\n",
        "imputer.fit(trainnum)\n",
        "X = imputer.transform(trainnum)\n",
        "trainnum = pd.DataFrame(X, columns=trainnum.columns)\n",
        "\n",
        "from sklearn.preprocessing import StandardScaler\n",
        "scaler = StandardScaler()\n",
        "trainnumr = scaler.fit_transform(trainnum)\n",
        "\n",
        "from sklearn.preprocessing import OneHotEncoder\n",
        "cat_encoder = OneHotEncoder()\n",
        "trainhot = cat_encoder.fit_transform(traincat).toarray()\n",
        "trainnew = np.concatenate([trainnumr, trainhot], axis=1)\n",
        "\n",
        "from sklearn.linear_model import LinearRegression\n",
        "from sklearn.metrics import mean_squared_error\n",
        "\n",
        "linreg = LinearRegression()\n",
        "linreg.fit(trainnumr, trainlabs)\n",
        "predictions = linreg.predict(trainnumr)\n",
        "mse = mean_squared_error(trainlabs, predictions)\n",
        "rmse = np.sqrt(mse)\n",
        "print(\"Train extended numericas LIN error = \", rmse)\n"
      ],
      "metadata": {
        "colab": {
          "base_uri": "https://localhost:8080/"
        },
        "id": "6LXu8k5ESecj",
        "outputId": "69b33888-a150-46ba-98d1-f0735d9f11c6"
      },
      "execution_count": null,
      "outputs": [
        {
          "output_type": "stream",
          "name": "stdout",
          "text": [
            "Train extended numericas LIN error =  68672.7905967634\n"
          ]
        }
      ]
    },
    {
      "cell_type": "code",
      "source": [
        "# Cross-validataion\n",
        "# k-fold cross-validation\n",
        "\n",
        "from sklearn.model_selection import cross_val_score\n",
        "scores = cross_val_score(linreg, trainnew, trainlabs, scoring=\"neg_mean_squared_error\", cv=10)\n",
        "# scores = cross_val_score(rfreg, trainnew, trainlabs, scoring=\"neg_mean_squared_error\", cv=10)\n",
        "# this result is better than linreg.\n",
        "\n",
        "rmse = np.sqrt(-scores)\n",
        "print(\"XVAL LIN RMSE mean =\",rmse.mean(),\" stddev =\",rmse.std())\n"
      ],
      "metadata": {
        "colab": {
          "base_uri": "https://localhost:8080/"
        },
        "id": "lOCe9cvGRYQB",
        "outputId": "df7ecb16-3943-4a7b-ba53-7d1a2c185f4b"
      },
      "execution_count": null,
      "outputs": [
        {
          "output_type": "stream",
          "name": "stdout",
          "text": [
            "XVAL LIN RMSE mean = 67929.13193437677  stddev = 2602.8838783869105\n"
          ]
        }
      ]
    },
    {
      "cell_type": "code",
      "source": [
        "from sklearn.model_selection import ShuffleSplit\n",
        "from sklearn.model_selection import cross_val_score\n",
        "\n",
        "split = ShuffleSplit(n_splits=10, test_size=0.2)\n",
        "\n",
        "scores = cross_val_score(linreg, trainnew, trainlabs, scoring=\"neg_mean_squared_error\", cv=split)\n",
        "rmse=np.sqrt(-scores)\n",
        "print(\"XVALSHUF LIN RMSE mean = \",rmse.mean(),\" stddev =\",rmse.std())"
      ],
      "metadata": {
        "colab": {
          "base_uri": "https://localhost:8080/"
        },
        "id": "v_k73giNKB46",
        "outputId": "ec341613-11e1-4c2d-b850-279bdb2e0804"
      },
      "execution_count": null,
      "outputs": [
        {
          "output_type": "stream",
          "name": "stdout",
          "text": [
            "XVALSHUF LIN RMSE mean =  67976.06422653739  stddev = 1496.2168485224943\n"
          ]
        }
      ]
    }
  ]
}