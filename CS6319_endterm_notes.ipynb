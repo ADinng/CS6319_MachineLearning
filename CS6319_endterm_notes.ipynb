{
  "nbformat": 4,
  "nbformat_minor": 0,
  "metadata": {
    "colab": {
      "provenance": [],
      "authorship_tag": "ABX9TyP0+VbfQFylG3AnUlv0wOLp",
      "include_colab_link": true
    },
    "kernelspec": {
      "name": "python3",
      "display_name": "Python 3"
    },
    "language_info": {
      "name": "python"
    }
  },
  "cells": [
    {
      "cell_type": "markdown",
      "metadata": {
        "id": "view-in-github",
        "colab_type": "text"
      },
      "source": [
        "<a href=\"https://colab.research.google.com/github/ADinng/CS6319_MachineLearning/blob/main/CS6319_endterm_notes.ipynb\" target=\"_parent\"><img src=\"https://colab.research.google.com/assets/colab-badge.svg\" alt=\"Open In Colab\"/></a>"
      ]
    },
    {
      "cell_type": "markdown",
      "source": [
        "### ARM"
      ],
      "metadata": {
        "id": "CNhcSM3R09DC"
      }
    },
    {
      "cell_type": "code",
      "execution_count": 1,
      "metadata": {
        "colab": {
          "base_uri": "https://localhost:8080/"
        },
        "id": "MntC2F7k0yLQ",
        "outputId": "67c148af-6c46-4ef8-9238-6da95294425b"
      },
      "outputs": [
        {
          "output_type": "stream",
          "name": "stdout",
          "text": [
            "Collecting apyori\n",
            "  Downloading apyori-1.1.2.tar.gz (8.6 kB)\n",
            "  Preparing metadata (setup.py) ... \u001b[?25l\u001b[?25hdone\n",
            "Building wheels for collected packages: apyori\n",
            "  Building wheel for apyori (setup.py) ... \u001b[?25l\u001b[?25hdone\n",
            "  Created wheel for apyori: filename=apyori-1.1.2-py3-none-any.whl size=5954 sha256=39741d19fde3a9fe7ffb2371d4744af7d08da7793c892a547d734a67430b746e\n",
            "  Stored in directory: /root/.cache/pip/wheels/77/3d/a6/d317a6fb32be58a602b1e8c6b5d6f31f79322da554cad2a5ea\n",
            "Successfully built apyori\n",
            "Installing collected packages: apyori\n",
            "Successfully installed apyori-1.1.2\n"
          ]
        }
      ],
      "source": [
        "!pip install apyori"
      ]
    },
    {
      "cell_type": "code",
      "source": [
        "# ARM(Unsupervised learning: association rule mining)\n",
        "import numpy as np\n",
        "import pandas as pd\n",
        "from apyori import apriori\n",
        "\n",
        "basket = pd.read_csv(\"https://github.com/andvise/DataAnalyticsDatasets/blob/78a9bd799b5fbf35344beff50304169f789d264c/Market_Basket_Optimisation.csv?raw=true\", header=None)\n",
        "\n",
        "records = []\n",
        "for i in range(0, 7501):\n",
        "  records.append([str(basket.values[i,j]) for j in range(0,20)])\n",
        "\n",
        "rules = apriori(records, min_support=0.0045, min_confidence=0.2, min_lift=3, min_length=2)\n",
        "results = list(rules)\n",
        "\n",
        "len(results)\n",
        "results[0]\n",
        "\n",
        "for item in results:\n",
        "  pair = item[0]\n",
        "  items = [x for x in pair]\n",
        "  print(\"Rule: \"+items[0]+ \" -> \" + items[1])\n",
        "  print(\"Support: \" + str(item[1]))\n",
        "  print(\"Confidence: \"+ str(item[2][0][2]))\n",
        "  print(\"Lift: \"+ str(item[2][0][3]))\n",
        "  print(\"======================================\")"
      ],
      "metadata": {
        "colab": {
          "base_uri": "https://localhost:8080/"
        },
        "id": "DhshTki808P7",
        "outputId": "f2a59abb-406b-42df-a26e-44ddb23423e6"
      },
      "execution_count": 2,
      "outputs": [
        {
          "output_type": "execute_result",
          "data": {
            "text/plain": [
              "RelationRecord(items=frozenset({'chicken', 'light cream'}), support=0.004532728969470737, ordered_statistics=[OrderedStatistic(items_base=frozenset({'light cream'}), items_add=frozenset({'chicken'}), confidence=0.29059829059829057, lift=4.84395061728395)])"
            ]
          },
          "metadata": {},
          "execution_count": 2
        }
      ]
    }
  ]
}