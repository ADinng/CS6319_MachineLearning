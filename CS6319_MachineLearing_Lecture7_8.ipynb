{
  "nbformat": 4,
  "nbformat_minor": 0,
  "metadata": {
    "colab": {
      "provenance": [],
      "authorship_tag": "ABX9TyOrQ048dTuDo2TN0TBCnGy6",
      "include_colab_link": true
    },
    "kernelspec": {
      "name": "python3",
      "display_name": "Python 3"
    },
    "language_info": {
      "name": "python"
    }
  },
  "cells": [
    {
      "cell_type": "markdown",
      "metadata": {
        "id": "view-in-github",
        "colab_type": "text"
      },
      "source": [
        "<a href=\"https://colab.research.google.com/github/ADinng/CS6319_MachineLearning/blob/main/CS6319_MachineLearing_Lecture7_8.ipynb\" target=\"_parent\"><img src=\"https://colab.research.google.com/assets/colab-badge.svg\" alt=\"Open In Colab\"/></a>"
      ]
    },
    {
      "cell_type": "markdown",
      "source": [
        "# Lecture 7"
      ],
      "metadata": {
        "id": "GpqDpl35MqcA"
      }
    },
    {
      "cell_type": "markdown",
      "source": [
        "Symbolic classification and regression"
      ],
      "metadata": {
        "id": "QbM3ro6bsr6_"
      }
    },
    {
      "cell_type": "code",
      "execution_count": null,
      "metadata": {
        "id": "8NAJSz-kpj-n",
        "colab": {
          "base_uri": "https://localhost:8080/"
        },
        "outputId": "c51fc798-cfe2-4747-fbfe-03cbce1d921c"
      },
      "outputs": [
        {
          "output_type": "stream",
          "name": "stdout",
          "text": [
            "Collecting gplearn\n",
            "  Downloading gplearn-0.4.2-py3-none-any.whl.metadata (4.3 kB)\n",
            "Requirement already satisfied: scikit-learn>=1.0.2 in /usr/local/lib/python3.11/dist-packages (from gplearn) (1.6.1)\n",
            "Requirement already satisfied: joblib>=1.0.0 in /usr/local/lib/python3.11/dist-packages (from gplearn) (1.4.2)\n",
            "Requirement already satisfied: numpy>=1.19.5 in /usr/local/lib/python3.11/dist-packages (from scikit-learn>=1.0.2->gplearn) (1.26.4)\n",
            "Requirement already satisfied: scipy>=1.6.0 in /usr/local/lib/python3.11/dist-packages (from scikit-learn>=1.0.2->gplearn) (1.13.1)\n",
            "Requirement already satisfied: threadpoolctl>=3.1.0 in /usr/local/lib/python3.11/dist-packages (from scikit-learn>=1.0.2->gplearn) (3.5.0)\n",
            "Downloading gplearn-0.4.2-py3-none-any.whl (25 kB)\n",
            "Installing collected packages: gplearn\n",
            "Successfully installed gplearn-0.4.2\n"
          ]
        }
      ],
      "source": [
        "!pip install gplearn\n",
        "from gplearn.genetic import SymbolicClassifier\n",
        "\n",
        "sc = SymbolicClassifier()"
      ]
    },
    {
      "cell_type": "code",
      "source": [
        "from sklearn.metrics import mean_absolute_error\n",
        "\n",
        "sc.fit(X,y)\n",
        "y1 = sc.predict(X)\n",
        "mae= mean_absolute_error(y, y1)"
      ],
      "metadata": {
        "id": "ZIY1jZjJp2Gf",
        "colab": {
          "base_uri": "https://localhost:8080/",
          "height": 220
        },
        "outputId": "f0dac68c-cc79-4549-a482-61da4dbb5d19"
      },
      "execution_count": null,
      "outputs": [
        {
          "output_type": "error",
          "ename": "NameError",
          "evalue": "name 'X' is not defined",
          "traceback": [
            "\u001b[0;31m---------------------------------------------------------------------------\u001b[0m",
            "\u001b[0;31mNameError\u001b[0m                                 Traceback (most recent call last)",
            "\u001b[0;32m<ipython-input-2-6e5a5bc4cefd>\u001b[0m in \u001b[0;36m<cell line: 0>\u001b[0;34m()\u001b[0m\n\u001b[1;32m      1\u001b[0m \u001b[0;32mfrom\u001b[0m \u001b[0msklearn\u001b[0m\u001b[0;34m.\u001b[0m\u001b[0mmetrics\u001b[0m \u001b[0;32mimport\u001b[0m \u001b[0mmean_absolute_error\u001b[0m\u001b[0;34m\u001b[0m\u001b[0;34m\u001b[0m\u001b[0m\n\u001b[1;32m      2\u001b[0m \u001b[0;34m\u001b[0m\u001b[0m\n\u001b[0;32m----> 3\u001b[0;31m \u001b[0msc\u001b[0m\u001b[0;34m.\u001b[0m\u001b[0mfit\u001b[0m\u001b[0;34m(\u001b[0m\u001b[0mX\u001b[0m\u001b[0;34m,\u001b[0m\u001b[0my\u001b[0m\u001b[0;34m)\u001b[0m\u001b[0;34m\u001b[0m\u001b[0;34m\u001b[0m\u001b[0m\n\u001b[0m\u001b[1;32m      4\u001b[0m \u001b[0my1\u001b[0m \u001b[0;34m=\u001b[0m \u001b[0msc\u001b[0m\u001b[0;34m.\u001b[0m\u001b[0mpredict\u001b[0m\u001b[0;34m(\u001b[0m\u001b[0mX\u001b[0m\u001b[0;34m)\u001b[0m\u001b[0;34m\u001b[0m\u001b[0;34m\u001b[0m\u001b[0m\n\u001b[1;32m      5\u001b[0m \u001b[0mmae\u001b[0m\u001b[0;34m=\u001b[0m \u001b[0mmean_absolute_error\u001b[0m\u001b[0;34m(\u001b[0m\u001b[0my\u001b[0m\u001b[0;34m,\u001b[0m \u001b[0my1\u001b[0m\u001b[0;34m)\u001b[0m\u001b[0;34m\u001b[0m\u001b[0;34m\u001b[0m\u001b[0m\n",
            "\u001b[0;31mNameError\u001b[0m: name 'X' is not defined"
          ]
        }
      ]
    },
    {
      "cell_type": "markdown",
      "source": [
        "## Multiple classes and imbalanced datasets"
      ],
      "metadata": {
        "id": "iOepsYP8svKI"
      }
    },
    {
      "cell_type": "code",
      "source": [
        "import pandas as pd\n",
        "import numpy as np\n",
        "from sklearn.preprocessing import LabelEncoder"
      ],
      "metadata": {
        "id": "FidjvBIgsmud"
      },
      "execution_count": null,
      "outputs": []
    },
    {
      "cell_type": "markdown",
      "source": [
        "dataset"
      ],
      "metadata": {
        "id": "bmbsczIktTcH"
      }
    },
    {
      "cell_type": "code",
      "source": [
        "mnisttra = pd.read_csv(\"https://archive.ics.uci.edu/ml/machine-learning-databases/optdigits/optdigits.tra\",header=None)\n",
        "mnisttes = pd.read_csv(\"https://archive.ics.uci.edu/ml/machine-learning-databases/optdigits/optdigits.tes\",header=None)\n"
      ],
      "metadata": {
        "id": "fcSPUlPOs2Sk"
      },
      "execution_count": null,
      "outputs": []
    },
    {
      "cell_type": "code",
      "source": [
        "# split label\n",
        "mnisttrad = mnisttra.drop(64, axis=1)\n",
        "mnisttesd = mnisttes.drop(64, axis=1)\n",
        "mnisttral = mnisttra[64].copy()\n",
        "mnisttesl = mnisttes[64].copy()"
      ],
      "metadata": {
        "id": "Tx1UMgoWtYGg"
      },
      "execution_count": null,
      "outputs": []
    },
    {
      "cell_type": "code",
      "source": [
        "mnisttral"
      ],
      "metadata": {
        "colab": {
          "base_uri": "https://localhost:8080/",
          "height": 458
        },
        "id": "cjBXuHWraWsr",
        "outputId": "d1852097-0485-40ad-d370-db3dda80b564"
      },
      "execution_count": null,
      "outputs": [
        {
          "output_type": "execute_result",
          "data": {
            "text/plain": [
              "0       0\n",
              "1       0\n",
              "2       7\n",
              "3       4\n",
              "4       6\n",
              "       ..\n",
              "3818    9\n",
              "3819    4\n",
              "3820    6\n",
              "3821    6\n",
              "3822    7\n",
              "Name: 64, Length: 3823, dtype: int64"
            ],
            "text/html": [
              "<div>\n",
              "<style scoped>\n",
              "    .dataframe tbody tr th:only-of-type {\n",
              "        vertical-align: middle;\n",
              "    }\n",
              "\n",
              "    .dataframe tbody tr th {\n",
              "        vertical-align: top;\n",
              "    }\n",
              "\n",
              "    .dataframe thead th {\n",
              "        text-align: right;\n",
              "    }\n",
              "</style>\n",
              "<table border=\"1\" class=\"dataframe\">\n",
              "  <thead>\n",
              "    <tr style=\"text-align: right;\">\n",
              "      <th></th>\n",
              "      <th>64</th>\n",
              "    </tr>\n",
              "  </thead>\n",
              "  <tbody>\n",
              "    <tr>\n",
              "      <th>0</th>\n",
              "      <td>0</td>\n",
              "    </tr>\n",
              "    <tr>\n",
              "      <th>1</th>\n",
              "      <td>0</td>\n",
              "    </tr>\n",
              "    <tr>\n",
              "      <th>2</th>\n",
              "      <td>7</td>\n",
              "    </tr>\n",
              "    <tr>\n",
              "      <th>3</th>\n",
              "      <td>4</td>\n",
              "    </tr>\n",
              "    <tr>\n",
              "      <th>4</th>\n",
              "      <td>6</td>\n",
              "    </tr>\n",
              "    <tr>\n",
              "      <th>...</th>\n",
              "      <td>...</td>\n",
              "    </tr>\n",
              "    <tr>\n",
              "      <th>3818</th>\n",
              "      <td>9</td>\n",
              "    </tr>\n",
              "    <tr>\n",
              "      <th>3819</th>\n",
              "      <td>4</td>\n",
              "    </tr>\n",
              "    <tr>\n",
              "      <th>3820</th>\n",
              "      <td>6</td>\n",
              "    </tr>\n",
              "    <tr>\n",
              "      <th>3821</th>\n",
              "      <td>6</td>\n",
              "    </tr>\n",
              "    <tr>\n",
              "      <th>3822</th>\n",
              "      <td>7</td>\n",
              "    </tr>\n",
              "  </tbody>\n",
              "</table>\n",
              "<p>3823 rows × 1 columns</p>\n",
              "</div><br><label><b>dtype:</b> int64</label>"
            ]
          },
          "metadata": {},
          "execution_count": 6
        }
      ]
    },
    {
      "cell_type": "markdown",
      "source": [
        "Make binary classification data\n",
        "\n",
        "*   predict whether a digit is 5 or not\n",
        "\n"
      ],
      "metadata": {
        "id": "MnQ-Vz3XuFdL"
      }
    },
    {
      "cell_type": "code",
      "source": [
        "ytra = (mnisttral == 5)\n",
        "ytes = (mnisttesl == 5)\n",
        "\n",
        "# label encoder\n",
        "le = LabelEncoder()\n",
        "ytrae = le.fit_transform(ytra)"
      ],
      "metadata": {
        "id": "rUiyd8d9t-Uf"
      },
      "execution_count": null,
      "outputs": []
    },
    {
      "cell_type": "markdown",
      "source": [
        "Apply classifiers"
      ],
      "metadata": {
        "id": "J3ZUKo9WvJem"
      }
    },
    {
      "cell_type": "code",
      "source": [
        "from sklearn.svm import LinearSVC\n",
        "from sklearn.model_selection import ShuffleSplit, cross_val_score\n",
        "\n",
        "classifier = LinearSVC()\n",
        "split = ShuffleSplit(n_splits=10, test_size=0.2)\n",
        "score = cross_val_score(classifier, mnisttrad, ytrae, scoring=\"accuracy\", cv=split)\n",
        "print(\"LS accuracy mena=\", score.mean())\n",
        "\n",
        "# using accuracy isn't appropriate for imbalance data"
      ],
      "metadata": {
        "colab": {
          "base_uri": "https://localhost:8080/"
        },
        "id": "uIztCYGOvJOx",
        "outputId": "3e4f897d-d52e-47db-f58e-1a38098a626b"
      },
      "execution_count": null,
      "outputs": [
        {
          "output_type": "stream",
          "name": "stdout",
          "text": [
            "LS accuracy mena= 0.9888888888888889\n"
          ]
        }
      ]
    },
    {
      "cell_type": "markdown",
      "source": [
        "Confusin matrix"
      ],
      "metadata": {
        "id": "wlcId1vYxDu1"
      }
    },
    {
      "cell_type": "code",
      "source": [
        "real = [0, 1, 0, 1, 0, 0, 0, 0]\n",
        "pred = [1, 1, 0, 1, 0, 0, 0, 0]\n",
        "\n",
        "from sklearn.metrics import confusion_matrix\n",
        "print(confusion_matrix(real, pred))"
      ],
      "metadata": {
        "colab": {
          "base_uri": "https://localhost:8080/"
        },
        "id": "JPDB-ZO3xDfw",
        "outputId": "6780360c-5c30-4975-aa9a-8685a2c41309"
      },
      "execution_count": null,
      "outputs": [
        {
          "output_type": "stream",
          "name": "stdout",
          "text": [
            "[[5 1]\n",
            " [0 2]]\n"
          ]
        }
      ]
    },
    {
      "cell_type": "code",
      "source": [
        "from sklearn.model_selection import cross_val_predict\n",
        "\n",
        "ypred = cross_val_predict(classifier, mnisttrad, ytrae, cv=3)\n",
        "print(confusion_matrix(ypred, ytrae))"
      ],
      "metadata": {
        "colab": {
          "base_uri": "https://localhost:8080/"
        },
        "id": "B3R69uuGxMEM",
        "outputId": "6215823a-a6ba-4264-8caa-b676b0ccafc2"
      },
      "execution_count": null,
      "outputs": [
        {
          "output_type": "stream",
          "name": "stdout",
          "text": [
            "[[3421   13]\n",
            " [  26  363]]\n"
          ]
        }
      ]
    },
    {
      "cell_type": "markdown",
      "source": [
        "Alternative to accuracy & confusion matrices"
      ],
      "metadata": {
        "id": "3wDWwMNwn3T6"
      }
    },
    {
      "cell_type": "code",
      "source": [
        "from sklearn.metrics import precision_score, recall_score, f1_score\n",
        "real = [0,1,0,1,0,0,0,0]\n",
        "pred = [1,1,0,1,0,0,0,0]\n",
        "\n",
        "print(precision_score(real, pred))\n",
        "print(recall_score(real, pred))\n",
        "print(f1_score(real, pred))"
      ],
      "metadata": {
        "colab": {
          "base_uri": "https://localhost:8080/"
        },
        "id": "zJF_Aub0n3DH",
        "outputId": "d3202918-7f6c-4131-bf36-7d83bce29765"
      },
      "execution_count": null,
      "outputs": [
        {
          "output_type": "stream",
          "name": "stdout",
          "text": [
            "0.6666666666666666\n",
            "1.0\n",
            "0.8\n"
          ]
        }
      ]
    },
    {
      "cell_type": "code",
      "source": [
        "from sklearn.tree import DecisionTreeClassifier\n",
        "\n",
        "classifier = DecisionTreeClassifier()\n",
        "scores = cross_val_score(classifier, mnisttrad, ytrae, scoring=\"f1\", cv = split)\n",
        "print(\"DT f1 mean = \", score.mean(),\" stddev = \", scores.std())"
      ],
      "metadata": {
        "colab": {
          "base_uri": "https://localhost:8080/"
        },
        "id": "BAWvj29npr6X",
        "outputId": "53f5f9c0-32b0-4a33-fd12-4674aafb51ef"
      },
      "execution_count": null,
      "outputs": [
        {
          "output_type": "stream",
          "name": "stdout",
          "text": [
            "DT f1 mean =  0.9888888888888889  stddev =  0.022580267279982205\n"
          ]
        }
      ]
    },
    {
      "cell_type": "code",
      "source": [
        "from sklearn.ensemble import RandomForestClassifier\n",
        "classifier = RandomForestClassifier()\n",
        "scores = cross_val_score(classifier, mnisttrad, ytrae, scoring=\"f1\", cv = split)\n",
        "print(\"DT f1 mean = \", score.mean(),\" stddev = \", scores.std())"
      ],
      "metadata": {
        "colab": {
          "base_uri": "https://localhost:8080/"
        },
        "id": "QSmF-cE-qYbU",
        "outputId": "0918cd86-d6de-4313-ea2b-232759cd96c1"
      },
      "execution_count": null,
      "outputs": [
        {
          "output_type": "stream",
          "name": "stdout",
          "text": [
            "DT f1 mean =  0.9888888888888889  stddev =  0.018863463634875264\n"
          ]
        }
      ]
    },
    {
      "cell_type": "code",
      "source": [
        "from sklearn.neighbors import KNeighborsClassifier\n",
        "classifier = KNeighborsClassifier()\n",
        "scores = cross_val_score(classifier, mnisttrad, ytrae, scoring=\"f1\", cv = split)\n",
        "print(\"DT f1 mean = \", score.mean(),\" stddev = \", scores.std())"
      ],
      "metadata": {
        "colab": {
          "base_uri": "https://localhost:8080/"
        },
        "id": "4eixSB0cqnEA",
        "outputId": "799d7d97-0e5d-42c4-d6a3-1acf92f5d500"
      },
      "execution_count": null,
      "outputs": [
        {
          "output_type": "stream",
          "name": "stdout",
          "text": [
            "DT f1 mean =  0.9888888888888889  stddev =  0.0065358274736349396\n"
          ]
        }
      ]
    },
    {
      "cell_type": "markdown",
      "source": [
        "# Lecture 08"
      ],
      "metadata": {
        "id": "XEhF1-7JZXf0"
      }
    },
    {
      "cell_type": "markdown",
      "source": [
        "multiclass classification"
      ],
      "metadata": {
        "id": "Ux1YvAEaZgZC"
      }
    },
    {
      "cell_type": "code",
      "source": [
        "mnisttrale = le.fit_transform(mnisttral)\n",
        "classifier = DecisionTreeClassifier()\n",
        "split = ShuffleSplit(n_splits=10, test_size=0.2)\n",
        "scores = cross_val_score(classifier, mnisttrad, mnisttrale, scoring=\"accuracy\", cv=split)\n",
        "print(\"DT accuracy mean = \",scores.mean(), \" stddev = \", scores.std())"
      ],
      "metadata": {
        "colab": {
          "base_uri": "https://localhost:8080/"
        },
        "id": "m0OznqyuZaFx",
        "outputId": "4a99e529-b42b-4263-bd89-14ffc6c7223d"
      },
      "execution_count": null,
      "outputs": [
        {
          "output_type": "stream",
          "name": "stdout",
          "text": [
            "DT accuracy mean =  0.895686274509804  stddev =  0.01168893537574283\n"
          ]
        }
      ]
    },
    {
      "cell_type": "code",
      "source": [
        "mnisttrale"
      ],
      "metadata": {
        "colab": {
          "base_uri": "https://localhost:8080/"
        },
        "id": "pCtQCyxFaeQu",
        "outputId": "6f57122a-05a5-4e29-c83b-41f987f61251"
      },
      "execution_count": null,
      "outputs": [
        {
          "output_type": "execute_result",
          "data": {
            "text/plain": [
              "array([0, 0, 7, ..., 6, 6, 7])"
            ]
          },
          "metadata": {},
          "execution_count": 16
        }
      ]
    },
    {
      "cell_type": "markdown",
      "source": [
        "generate a confusion matrix for multiclass problems\n",
        "\n",
        "\n",
        "*   rows represent actual classes\n",
        "*   columns represent predicted classes\n",
        "\n"
      ],
      "metadata": {
        "id": "vLN9YP2Kbpmm"
      }
    },
    {
      "cell_type": "code",
      "source": [
        "ypred = cross_val_predict(classifier, mnisttrad, mnisttrale, cv=3)\n",
        "conf = confusion_matrix(ypred, mnisttrale)\n",
        "print(conf)"
      ],
      "metadata": {
        "colab": {
          "base_uri": "https://localhost:8080/"
        },
        "id": "MqVi9FmJbUMI",
        "outputId": "966514a2-4cdb-4805-aaad-1341a6fc2b44"
      },
      "execution_count": null,
      "outputs": [
        {
          "output_type": "stream",
          "name": "stdout",
          "text": [
            "[[358   0   1   0   2   0   1   1   6   1]\n",
            " [  0 323  10   6  12   6   6   2  16   8]\n",
            " [  1   9 335  10   0   5   3   3  16   9]\n",
            " [  2  13   5 341   1   8   1   6   4   8]\n",
            " [  2   7   2   2 330   3   8   5   5  17]\n",
            " [  2   5   4  12   8 343   0   0   0  10]\n",
            " [  5   3   3   0  10   0 356   0   3   0]\n",
            " [  0  11   0   4   5   0   0 363   5   7]\n",
            " [  6   8  14   7   4   6   2   3 319   2]\n",
            " [  0  10   6   7  15   5   0   4   6 320]]\n"
          ]
        }
      ]
    },
    {
      "cell_type": "markdown",
      "source": [
        "this is a lot of numbers to take in, so it might be easier to get a graphical version"
      ],
      "metadata": {
        "id": "tbMXR4jzeUaq"
      }
    },
    {
      "cell_type": "code",
      "source": [
        "import matplotlib as plt\n",
        "plt.pyplot.matshow(conf, cmap=plt.cm.gray)"
      ],
      "metadata": {
        "colab": {
          "base_uri": "https://localhost:8080/",
          "height": 455
        },
        "id": "fn9zjc9bbvfT",
        "outputId": "40eac693-eb1b-4b40-aae6-a1df6e3fcc49"
      },
      "execution_count": null,
      "outputs": [
        {
          "output_type": "execute_result",
          "data": {
            "text/plain": [
              "<matplotlib.image.AxesImage at 0x7a164a2f54d0>"
            ]
          },
          "metadata": {},
          "execution_count": 18
        },
        {
          "output_type": "display_data",
          "data": {
            "text/plain": [
              "<Figure size 480x480 with 1 Axes>"
            ],
            "image/png": "[encoded data removed]"
          },
          "metadata": {}
        }
      ]
    },
    {
      "cell_type": "code",
      "source": [
        "rowsums = conf.sum(axis=1, keepdims=True)\n",
        "normconf = conf/rowsums\n",
        "np.fill_diagonal(normconf, 0)\n",
        "plt.pyplot.matshow(normconf, cmap=plt.cm.gray)"
      ],
      "metadata": {
        "colab": {
          "base_uri": "https://localhost:8080/",
          "height": 455
        },
        "id": "KWmW_8mMI21c",
        "outputId": "5794ff60-e297-4a05-896c-a25f802de243"
      },
      "execution_count": null,
      "outputs": [
        {
          "output_type": "execute_result",
          "data": {
            "text/plain": [
              "<matplotlib.image.AxesImage at 0x7a1647aee850>"
            ]
          },
          "metadata": {},
          "execution_count": 22
        },
        {
          "output_type": "display_data",
          "data": {
            "text/plain": [
              "<Figure size 480x480 with 1 Axes>"
            ],
            "image/png": "[encoded data removed]"
          },
          "metadata": {}
        }
      ]
    },
    {
      "cell_type": "markdown",
      "source": [
        "case today"
      ],
      "metadata": {
        "id": "josv4ciuMhtt"
      }
    },
    {
      "cell_type": "code",
      "source": [
        "firewall = pd.read_csv(\"https://archive.ics.uci.edu/ml/machine-learning-databases/00542/log2.csv\")\n"
      ],
      "metadata": {
        "id": "UwYoJ3nZMhVL"
      },
      "execution_count": null,
      "outputs": []
    },
    {
      "cell_type": "code",
      "source": [
        "firewall['Action'].value_counts()"
      ],
      "metadata": {
        "colab": {
          "base_uri": "https://localhost:8080/",
          "height": 241
        },
        "id": "Yot0c9vFNDHw",
        "outputId": "742a6d7c-39af-4e85-cd64-d95acec48e8f"
      },
      "execution_count": null,
      "outputs": [
        {
          "output_type": "execute_result",
          "data": {
            "text/plain": [
              "Action\n",
              "allow         37640\n",
              "deny          14987\n",
              "drop          12851\n",
              "reset-both       54\n",
              "Name: count, dtype: int64"
            ],
            "text/html": [
              "<div>\n",
              "<style scoped>\n",
              "    .dataframe tbody tr th:only-of-type {\n",
              "        vertical-align: middle;\n",
              "    }\n",
              "\n",
              "    .dataframe tbody tr th {\n",
              "        vertical-align: top;\n",
              "    }\n",
              "\n",
              "    .dataframe thead th {\n",
              "        text-align: right;\n",
              "    }\n",
              "</style>\n",
              "<table border=\"1\" class=\"dataframe\">\n",
              "  <thead>\n",
              "    <tr style=\"text-align: right;\">\n",
              "      <th></th>\n",
              "      <th>count</th>\n",
              "    </tr>\n",
              "    <tr>\n",
              "      <th>Action</th>\n",
              "      <th></th>\n",
              "    </tr>\n",
              "  </thead>\n",
              "  <tbody>\n",
              "    <tr>\n",
              "      <th>allow</th>\n",
              "      <td>37640</td>\n",
              "    </tr>\n",
              "    <tr>\n",
              "      <th>deny</th>\n",
              "      <td>14987</td>\n",
              "    </tr>\n",
              "    <tr>\n",
              "      <th>drop</th>\n",
              "      <td>12851</td>\n",
              "    </tr>\n",
              "    <tr>\n",
              "      <th>reset-both</th>\n",
              "      <td>54</td>\n",
              "    </tr>\n",
              "  </tbody>\n",
              "</table>\n",
              "</div><br><label><b>dtype:</b> int64</label>"
            ]
          },
          "metadata": {},
          "execution_count": 26
        }
      ]
    },
    {
      "cell_type": "code",
      "source": [
        "from sklearn.model_selection import train_test_split\n",
        "firetrain, firetest = train_test_split(firewall, test_size=0.2)"
      ],
      "metadata": {
        "id": "B_4dZ1vlP_oe"
      },
      "execution_count": null,
      "outputs": []
    },
    {
      "cell_type": "code",
      "source": [
        "# iloc[row index, colum index] 左闭又开，traindata 只取5-10列\n",
        "traindata = firetrain.iloc[:,5:11]\n",
        "trainlabs = firetrain.iloc[:,4]\n",
        "testdata = firetest.iloc[:,5:11]\n",
        "testlabs = firetest.iloc[:,4]"
      ],
      "metadata": {
        "id": "R9xrQUdVUJCH"
      },
      "execution_count": null,
      "outputs": []
    },
    {
      "cell_type": "code",
      "source": [
        "from sklearn.preprocessing import MinMaxScaler\n",
        "\n",
        "scaler = MinMaxScaler()\n",
        "traindatar = scaler.fit_transform(traindata)\n",
        "testdatar = scaler.transform(testdata)"
      ],
      "metadata": {
        "id": "ksW2m7leUKs9"
      },
      "execution_count": null,
      "outputs": []
    },
    {
      "cell_type": "code",
      "source": [
        "from sklearn.preprocessing import LabelEncoder\n",
        "\n",
        "le = LabelEncoder()\n",
        "trainlabse = le.fit_transform(trainlabs)\n",
        "testlabse = le.transform(testlabs)"
      ],
      "metadata": {
        "id": "MJNYdIvsgoFn"
      },
      "execution_count": null,
      "outputs": []
    },
    {
      "cell_type": "code",
      "source": [
        "from sklearn.model_selection import ShuffleSplit\n",
        "from sklearn.model_selection import cross_val_score\n",
        "from sklearn.svm import LinearSVC\n",
        "\n",
        "classifier = LinearSVC()\n",
        "split = ShuffleSplit(n_splits=10, test_size=0.2)\n",
        "scores = cross_val_score(classifier, traindatar, trainlabse, scoring=\"f1_macro\", cv=split)\n",
        "print(\"LS f1 mean =\", scores.mean(),\" stddev =\",scores.std())"
      ],
      "metadata": {
        "colab": {
          "base_uri": "https://localhost:8080/"
        },
        "id": "Lh4X1j0AgrY1",
        "outputId": "9a2b43c3-94cd-4f7e-835a-6bbd940e461a"
      },
      "execution_count": null,
      "outputs": [
        {
          "output_type": "stream",
          "name": "stdout",
          "text": [
            "LS f1 mean = 0.18254225752208098  stddev = 0.0010802403153964807\n"
          ]
        }
      ]
    },
    {
      "cell_type": "markdown",
      "source": [
        "grid search"
      ],
      "metadata": {
        "id": "NyWpDUDTgxnr"
      }
    },
    {
      "cell_type": "code",
      "source": [
        "from sklearn.model_selection import GridSearchCV\n",
        "\n",
        "params =[{'n_neighbors': [3, 5, 8, 13],\n",
        "          'weights': ['uniform','distance'],\n",
        "          'p':[1,2]}]\n",
        "classifier = KNeighborsClassifier()\n",
        "search = GridSearchCV(classifier, params, cv=5, scoring =\"f1_macro\")\n",
        "search.fit(traindatar, trainlabse)\n",
        "\n",
        "print(\"best params: \", search.best_params_)\n",
        "print(\"best score: \", search.best_score_)"
      ],
      "metadata": {
        "colab": {
          "base_uri": "https://localhost:8080/"
        },
        "id": "_CwpsAoOgwtH",
        "outputId": "1c5b5a92-3ef2-4feb-a618-af6630bde57e"
      },
      "execution_count": null,
      "outputs": [
        {
          "output_type": "stream",
          "name": "stdout",
          "text": [
            "best params:  {'n_neighbors': 8, 'p': 1, 'weights': 'distance'}\n",
            "best score:  0.7476954686129262\n"
          ]
        }
      ]
    },
    {
      "cell_type": "code",
      "source": [
        "params =[{'n_neighbors': [6, 8, 10, 15, 18]}]\n",
        "classifier = KNeighborsClassifier(weights='distance',p=1)\n",
        "search = GridSearchCV(classifier, params, cv=5, scoring =\"f1_macro\")\n",
        "search.fit(traindatar, trainlabse)\n",
        "\n",
        "print(\"best params: \", search.best_params_)\n",
        "print(\"best score: \", search.best_score_)"
      ],
      "metadata": {
        "colab": {
          "base_uri": "https://localhost:8080/"
        },
        "id": "2mNtXYCijF9H",
        "outputId": "5c9e0521-4cb7-470a-b937-51cb639b16fa"
      },
      "execution_count": null,
      "outputs": [
        {
          "output_type": "stream",
          "name": "stdout",
          "text": [
            "best params:  {'n_neighbors': 18}\n",
            "best score:  0.7487962725321669\n"
          ]
        }
      ]
    },
    {
      "cell_type": "code",
      "source": [
        "from sklearn.metrics import f1_score\n",
        "classifier = KNeighborsClassifier(n_neighbors=10, p=1, weights='distance')\n",
        "classifier.fit(traindatar, trainlabse)\n",
        "y1 = classifier.predict(testdatar)\n",
        "print(\" Test f1 = \", f1_score(testlabse, y1, average='macro'))"
      ],
      "metadata": {
        "id": "kWuDIYBBJlCM"
      },
      "execution_count": null,
      "outputs": []
    }
  ]
}